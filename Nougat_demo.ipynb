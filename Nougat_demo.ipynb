{
  "cells": [
    {
      "cell_type": "markdown",
      "metadata": {
        "id": "ze17Whr66OiC"
      },
      "source": [
        "論文<br>\n",
        "https://arxiv.org/abs/2308.13418<br>\n",
        "GitHub<br>\n",
        "https://github.com/facebookresearch/nougat<br>\n",
        "<br>\n",
        "<a href=\"https://colab.research.google.com/github/kaz12tech/ai_demos/blob/master/Nougat_demo.ipynb\" target=\"_blank\"><img src=\"https://colab.research.google.com/assets/colab-badge.svg\" alt=\"Open In Colab\"/></a>"
      ]
    },
    {
      "cell_type": "markdown",
      "metadata": {
        "id": "GOLKpkBa6OiI"
      },
      "source": [
        "# Setup environment"
      ]
    },
    {
      "cell_type": "markdown",
      "metadata": {
        "id": "Jz8gTEgP6OiJ"
      },
      "source": [
        "## git clone"
      ]
    },
    {
      "cell_type": "code",
      "execution_count": 11,
      "metadata": {
        "id": "SO7I9ozfFpmW",
        "outputId": "a6790500-b360-428a-f9b6-ca1c91e9fc9c",
        "colab": {
          "base_uri": "https://localhost:8080/"
        }
      },
      "outputs": [
        {
          "output_type": "stream",
          "name": "stdout",
          "text": [
            "Requirement already satisfied: datasets in /usr/local/lib/python3.11/dist-packages (3.5.0)\n",
            "Requirement already satisfied: gcsfs in /usr/local/lib/python3.11/dist-packages (2024.12.0)\n",
            "Collecting gcsfs\n",
            "  Using cached gcsfs-2025.3.2-py2.py3-none-any.whl.metadata (1.9 kB)\n",
            "Requirement already satisfied: fsspec in /usr/local/lib/python3.11/dist-packages (2024.12.0)\n",
            "Collecting fsspec\n",
            "  Using cached fsspec-2025.3.2-py3-none-any.whl.metadata (11 kB)\n",
            "Requirement already satisfied: filelock in /usr/local/lib/python3.11/dist-packages (from datasets) (3.18.0)\n",
            "Requirement already satisfied: numpy>=1.17 in /usr/local/lib/python3.11/dist-packages (from datasets) (2.0.2)\n",
            "Requirement already satisfied: pyarrow>=15.0.0 in /usr/local/lib/python3.11/dist-packages (from datasets) (18.1.0)\n",
            "Requirement already satisfied: dill<0.3.9,>=0.3.0 in /usr/local/lib/python3.11/dist-packages (from datasets) (0.3.8)\n",
            "Requirement already satisfied: pandas in /usr/local/lib/python3.11/dist-packages (from datasets) (2.2.2)\n",
            "Requirement already satisfied: requests>=2.32.2 in /usr/local/lib/python3.11/dist-packages (from datasets) (2.32.3)\n",
            "Requirement already satisfied: tqdm>=4.66.3 in /usr/local/lib/python3.11/dist-packages (from datasets) (4.67.1)\n",
            "Requirement already satisfied: xxhash in /usr/local/lib/python3.11/dist-packages (from datasets) (3.5.0)\n",
            "Requirement already satisfied: multiprocess<0.70.17 in /usr/local/lib/python3.11/dist-packages (from datasets) (0.70.16)\n",
            "Requirement already satisfied: aiohttp in /usr/local/lib/python3.11/dist-packages (from datasets) (3.11.14)\n",
            "Requirement already satisfied: huggingface-hub>=0.24.0 in /usr/local/lib/python3.11/dist-packages (from datasets) (0.29.3)\n",
            "Requirement already satisfied: packaging in /usr/local/lib/python3.11/dist-packages (from datasets) (24.2)\n",
            "Requirement already satisfied: pyyaml>=5.1 in /usr/local/lib/python3.11/dist-packages (from datasets) (6.0.2)\n",
            "Requirement already satisfied: decorator>4.1.2 in /usr/local/lib/python3.11/dist-packages (from gcsfs) (4.4.2)\n",
            "INFO: pip is looking at multiple versions of gcsfs to determine which version is compatible with other requirements. This could take a while.\n",
            "Collecting gcsfs\n",
            "  Using cached gcsfs-2025.3.1-py2.py3-none-any.whl.metadata (1.9 kB)\n",
            "  Using cached gcsfs-2025.3.0-py2.py3-none-any.whl.metadata (1.9 kB)\n",
            "  Using cached gcsfs-2025.2.0-py2.py3-none-any.whl.metadata (1.9 kB)\n",
            "Requirement already satisfied: google-auth>=1.2 in /usr/local/lib/python3.11/dist-packages (from gcsfs) (2.38.0)\n",
            "Requirement already satisfied: google-auth-oauthlib in /usr/local/lib/python3.11/dist-packages (from gcsfs) (1.2.1)\n",
            "Requirement already satisfied: google-cloud-storage in /usr/local/lib/python3.11/dist-packages (from gcsfs) (2.19.0)\n",
            "Requirement already satisfied: aiohappyeyeballs>=2.3.0 in /usr/local/lib/python3.11/dist-packages (from aiohttp->datasets) (2.6.1)\n",
            "Requirement already satisfied: aiosignal>=1.1.2 in /usr/local/lib/python3.11/dist-packages (from aiohttp->datasets) (1.3.2)\n",
            "Requirement already satisfied: attrs>=17.3.0 in /usr/local/lib/python3.11/dist-packages (from aiohttp->datasets) (25.3.0)\n",
            "Requirement already satisfied: frozenlist>=1.1.1 in /usr/local/lib/python3.11/dist-packages (from aiohttp->datasets) (1.5.0)\n",
            "Requirement already satisfied: multidict<7.0,>=4.5 in /usr/local/lib/python3.11/dist-packages (from aiohttp->datasets) (6.2.0)\n",
            "Requirement already satisfied: propcache>=0.2.0 in /usr/local/lib/python3.11/dist-packages (from aiohttp->datasets) (0.3.1)\n",
            "Requirement already satisfied: yarl<2.0,>=1.17.0 in /usr/local/lib/python3.11/dist-packages (from aiohttp->datasets) (1.18.3)\n",
            "Requirement already satisfied: cachetools<6.0,>=2.0.0 in /usr/local/lib/python3.11/dist-packages (from google-auth>=1.2->gcsfs) (5.5.2)\n",
            "Requirement already satisfied: pyasn1-modules>=0.2.1 in /usr/local/lib/python3.11/dist-packages (from google-auth>=1.2->gcsfs) (0.4.2)\n",
            "Requirement already satisfied: rsa<5,>=3.1.4 in /usr/local/lib/python3.11/dist-packages (from google-auth>=1.2->gcsfs) (4.9)\n",
            "Requirement already satisfied: typing-extensions>=3.7.4.3 in /usr/local/lib/python3.11/dist-packages (from huggingface-hub>=0.24.0->datasets) (4.13.0)\n",
            "Requirement already satisfied: charset-normalizer<4,>=2 in /usr/local/lib/python3.11/dist-packages (from requests>=2.32.2->datasets) (3.4.1)\n",
            "Requirement already satisfied: idna<4,>=2.5 in /usr/local/lib/python3.11/dist-packages (from requests>=2.32.2->datasets) (3.10)\n",
            "Requirement already satisfied: urllib3<3,>=1.21.1 in /usr/local/lib/python3.11/dist-packages (from requests>=2.32.2->datasets) (2.3.0)\n",
            "Requirement already satisfied: certifi>=2017.4.17 in /usr/local/lib/python3.11/dist-packages (from requests>=2.32.2->datasets) (2025.1.31)\n",
            "Requirement already satisfied: requests-oauthlib>=0.7.0 in /usr/local/lib/python3.11/dist-packages (from google-auth-oauthlib->gcsfs) (2.0.0)\n",
            "Requirement already satisfied: google-api-core<3.0.0dev,>=2.15.0 in /usr/local/lib/python3.11/dist-packages (from google-cloud-storage->gcsfs) (2.24.2)\n",
            "Requirement already satisfied: google-cloud-core<3.0dev,>=2.3.0 in /usr/local/lib/python3.11/dist-packages (from google-cloud-storage->gcsfs) (2.4.3)\n",
            "Requirement already satisfied: google-resumable-media>=2.7.2 in /usr/local/lib/python3.11/dist-packages (from google-cloud-storage->gcsfs) (2.7.2)\n",
            "Requirement already satisfied: google-crc32c<2.0dev,>=1.0 in /usr/local/lib/python3.11/dist-packages (from google-cloud-storage->gcsfs) (1.7.1)\n",
            "Requirement already satisfied: python-dateutil>=2.8.2 in /usr/local/lib/python3.11/dist-packages (from pandas->datasets) (2.8.2)\n",
            "Requirement already satisfied: pytz>=2020.1 in /usr/local/lib/python3.11/dist-packages (from pandas->datasets) (2025.2)\n",
            "Requirement already satisfied: tzdata>=2022.7 in /usr/local/lib/python3.11/dist-packages (from pandas->datasets) (2025.2)\n",
            "Requirement already satisfied: googleapis-common-protos<2.0.0,>=1.56.2 in /usr/local/lib/python3.11/dist-packages (from google-api-core<3.0.0dev,>=2.15.0->google-cloud-storage->gcsfs) (1.69.2)\n",
            "Requirement already satisfied: protobuf!=3.20.0,!=3.20.1,!=4.21.0,!=4.21.1,!=4.21.2,!=4.21.3,!=4.21.4,!=4.21.5,<7.0.0,>=3.19.5 in /usr/local/lib/python3.11/dist-packages (from google-api-core<3.0.0dev,>=2.15.0->google-cloud-storage->gcsfs) (5.29.4)\n",
            "Requirement already satisfied: proto-plus<2.0.0,>=1.22.3 in /usr/local/lib/python3.11/dist-packages (from google-api-core<3.0.0dev,>=2.15.0->google-cloud-storage->gcsfs) (1.26.1)\n",
            "Requirement already satisfied: pyasn1<0.7.0,>=0.6.1 in /usr/local/lib/python3.11/dist-packages (from pyasn1-modules>=0.2.1->google-auth>=1.2->gcsfs) (0.6.1)\n",
            "Requirement already satisfied: six>=1.5 in /usr/local/lib/python3.11/dist-packages (from python-dateutil>=2.8.2->pandas->datasets) (1.17.0)\n",
            "Requirement already satisfied: oauthlib>=3.0.0 in /usr/local/lib/python3.11/dist-packages (from requests-oauthlib>=0.7.0->google-auth-oauthlib->gcsfs) (3.2.2)\n"
          ]
        }
      ],
      "source": [
        "!pip install --upgrade datasets gcsfs fsspec"
      ]
    },
    {
      "cell_type": "markdown",
      "metadata": {
        "id": "07hg4xM8tYCV"
      },
      "source": [
        "## install libraries"
      ]
    },
    {
      "cell_type": "code",
      "execution_count": 12,
      "metadata": {
        "colab": {
          "base_uri": "https://localhost:8080/"
        },
        "id": "gRHm5XmrGGNB",
        "outputId": "9710e84c-541d-469c-ae36-09b5c2a74f3c"
      },
      "outputs": [
        {
          "output_type": "stream",
          "name": "stdout",
          "text": [
            "Collecting git+https://github.com/facebookresearch/nougat@a017de1f5501fbeb6cd8b7c302f9a075b2b4bee2\n",
            "  Cloning https://github.com/facebookresearch/nougat (to revision a017de1f5501fbeb6cd8b7c302f9a075b2b4bee2) to /tmp/pip-req-build-kuirv3m2\n",
            "  Running command git clone --filter=blob:none --quiet https://github.com/facebookresearch/nougat /tmp/pip-req-build-kuirv3m2\n",
            "  Running command git rev-parse -q --verify 'sha^a017de1f5501fbeb6cd8b7c302f9a075b2b4bee2'\n",
            "  Running command git fetch -q https://github.com/facebookresearch/nougat a017de1f5501fbeb6cd8b7c302f9a075b2b4bee2\n",
            "  Running command git checkout -q a017de1f5501fbeb6cd8b7c302f9a075b2b4bee2\n",
            "  Resolved https://github.com/facebookresearch/nougat to commit a017de1f5501fbeb6cd8b7c302f9a075b2b4bee2\n",
            "  Preparing metadata (setup.py) ... \u001b[?25l\u001b[?25hdone\n",
            "Requirement already satisfied: transformers>=4.25.1 in /usr/local/lib/python3.11/dist-packages (from nougat-ocr==0.1.12) (4.50.2)\n",
            "Requirement already satisfied: timm==0.5.4 in /usr/local/lib/python3.11/dist-packages (from nougat-ocr==0.1.12) (0.5.4)\n",
            "Requirement already satisfied: orjson in /usr/local/lib/python3.11/dist-packages (from nougat-ocr==0.1.12) (3.10.16)\n",
            "Requirement already satisfied: opencv-python-headless in /usr/local/lib/python3.11/dist-packages (from nougat-ocr==0.1.12) (4.11.0.86)\n",
            "Requirement already satisfied: datasets[vision] in /usr/local/lib/python3.11/dist-packages (from nougat-ocr==0.1.12) (3.5.0)\n",
            "Requirement already satisfied: lightning<2022,>=2.0.0 in /usr/local/lib/python3.11/dist-packages (from nougat-ocr==0.1.12) (2.5.1)\n",
            "Requirement already satisfied: nltk in /usr/local/lib/python3.11/dist-packages (from nougat-ocr==0.1.12) (3.9.1)\n",
            "Requirement already satisfied: python-Levenshtein in /usr/local/lib/python3.11/dist-packages (from nougat-ocr==0.1.12) (0.27.1)\n",
            "Requirement already satisfied: sentencepiece in /usr/local/lib/python3.11/dist-packages (from nougat-ocr==0.1.12) (0.2.0)\n",
            "Requirement already satisfied: sconf>=0.2.3 in /usr/local/lib/python3.11/dist-packages (from nougat-ocr==0.1.12) (0.2.5)\n",
            "Requirement already satisfied: albumentations>=1.0.0 in /usr/local/lib/python3.11/dist-packages (from nougat-ocr==0.1.12) (2.0.5)\n",
            "Requirement already satisfied: pypdf>=3.1.0 in /usr/local/lib/python3.11/dist-packages (from nougat-ocr==0.1.12) (5.4.0)\n",
            "Requirement already satisfied: pypdfium2 in /usr/local/lib/python3.11/dist-packages (from nougat-ocr==0.1.12) (4.30.1)\n",
            "Requirement already satisfied: torch>=1.4 in /usr/local/lib/python3.11/dist-packages (from timm==0.5.4->nougat-ocr==0.1.12) (2.6.0+cu124)\n",
            "Requirement already satisfied: torchvision in /usr/local/lib/python3.11/dist-packages (from timm==0.5.4->nougat-ocr==0.1.12) (0.21.0+cu124)\n",
            "Requirement already satisfied: numpy>=1.24.4 in /usr/local/lib/python3.11/dist-packages (from albumentations>=1.0.0->nougat-ocr==0.1.12) (2.0.2)\n",
            "Requirement already satisfied: scipy>=1.10.0 in /usr/local/lib/python3.11/dist-packages (from albumentations>=1.0.0->nougat-ocr==0.1.12) (1.14.1)\n",
            "Requirement already satisfied: PyYAML in /usr/local/lib/python3.11/dist-packages (from albumentations>=1.0.0->nougat-ocr==0.1.12) (6.0.2)\n",
            "Requirement already satisfied: pydantic>=2.9.2 in /usr/local/lib/python3.11/dist-packages (from albumentations>=1.0.0->nougat-ocr==0.1.12) (2.11.0)\n",
            "Requirement already satisfied: albucore==0.0.23 in /usr/local/lib/python3.11/dist-packages (from albumentations>=1.0.0->nougat-ocr==0.1.12) (0.0.23)\n",
            "Requirement already satisfied: stringzilla>=3.10.4 in /usr/local/lib/python3.11/dist-packages (from albucore==0.0.23->albumentations>=1.0.0->nougat-ocr==0.1.12) (3.12.3)\n",
            "Requirement already satisfied: simsimd>=5.9.2 in /usr/local/lib/python3.11/dist-packages (from albucore==0.0.23->albumentations>=1.0.0->nougat-ocr==0.1.12) (6.2.1)\n",
            "Requirement already satisfied: fsspec<2026.0,>=2022.5.0 in /usr/local/lib/python3.11/dist-packages (from fsspec[http]<2026.0,>=2022.5.0->lightning<2022,>=2.0.0->nougat-ocr==0.1.12) (2024.12.0)\n",
            "Requirement already satisfied: lightning-utilities<2.0,>=0.10.0 in /usr/local/lib/python3.11/dist-packages (from lightning<2022,>=2.0.0->nougat-ocr==0.1.12) (0.14.2)\n",
            "Requirement already satisfied: packaging<25.0,>=20.0 in /usr/local/lib/python3.11/dist-packages (from lightning<2022,>=2.0.0->nougat-ocr==0.1.12) (24.2)\n",
            "Requirement already satisfied: torchmetrics<3.0,>=0.7.0 in /usr/local/lib/python3.11/dist-packages (from lightning<2022,>=2.0.0->nougat-ocr==0.1.12) (1.7.0)\n",
            "Requirement already satisfied: tqdm<6.0,>=4.57.0 in /usr/local/lib/python3.11/dist-packages (from lightning<2022,>=2.0.0->nougat-ocr==0.1.12) (4.67.1)\n",
            "Requirement already satisfied: typing-extensions<6.0,>=4.4.0 in /usr/local/lib/python3.11/dist-packages (from lightning<2022,>=2.0.0->nougat-ocr==0.1.12) (4.13.0)\n",
            "Requirement already satisfied: pytorch-lightning in /usr/local/lib/python3.11/dist-packages (from lightning<2022,>=2.0.0->nougat-ocr==0.1.12) (2.5.1)\n",
            "Requirement already satisfied: ruamel.yaml in /usr/local/lib/python3.11/dist-packages (from sconf>=0.2.3->nougat-ocr==0.1.12) (0.18.10)\n",
            "Requirement already satisfied: munch in /usr/local/lib/python3.11/dist-packages (from sconf>=0.2.3->nougat-ocr==0.1.12) (4.0.0)\n",
            "Requirement already satisfied: filelock in /usr/local/lib/python3.11/dist-packages (from transformers>=4.25.1->nougat-ocr==0.1.12) (3.18.0)\n",
            "Requirement already satisfied: huggingface-hub<1.0,>=0.26.0 in /usr/local/lib/python3.11/dist-packages (from transformers>=4.25.1->nougat-ocr==0.1.12) (0.29.3)\n",
            "Requirement already satisfied: regex!=2019.12.17 in /usr/local/lib/python3.11/dist-packages (from transformers>=4.25.1->nougat-ocr==0.1.12) (2024.11.6)\n",
            "Requirement already satisfied: requests in /usr/local/lib/python3.11/dist-packages (from transformers>=4.25.1->nougat-ocr==0.1.12) (2.32.3)\n",
            "Requirement already satisfied: tokenizers<0.22,>=0.21 in /usr/local/lib/python3.11/dist-packages (from transformers>=4.25.1->nougat-ocr==0.1.12) (0.21.1)\n",
            "Requirement already satisfied: safetensors>=0.4.3 in /usr/local/lib/python3.11/dist-packages (from transformers>=4.25.1->nougat-ocr==0.1.12) (0.5.3)\n",
            "Requirement already satisfied: pyarrow>=15.0.0 in /usr/local/lib/python3.11/dist-packages (from datasets[vision]->nougat-ocr==0.1.12) (18.1.0)\n",
            "Requirement already satisfied: dill<0.3.9,>=0.3.0 in /usr/local/lib/python3.11/dist-packages (from datasets[vision]->nougat-ocr==0.1.12) (0.3.8)\n",
            "Requirement already satisfied: pandas in /usr/local/lib/python3.11/dist-packages (from datasets[vision]->nougat-ocr==0.1.12) (2.2.2)\n",
            "Requirement already satisfied: xxhash in /usr/local/lib/python3.11/dist-packages (from datasets[vision]->nougat-ocr==0.1.12) (3.5.0)\n",
            "Requirement already satisfied: multiprocess<0.70.17 in /usr/local/lib/python3.11/dist-packages (from datasets[vision]->nougat-ocr==0.1.12) (0.70.16)\n",
            "Requirement already satisfied: aiohttp in /usr/local/lib/python3.11/dist-packages (from datasets[vision]->nougat-ocr==0.1.12) (3.11.14)\n",
            "Requirement already satisfied: Pillow>=9.4.0 in /usr/local/lib/python3.11/dist-packages (from datasets[vision]->nougat-ocr==0.1.12) (11.1.0)\n",
            "Requirement already satisfied: click in /usr/local/lib/python3.11/dist-packages (from nltk->nougat-ocr==0.1.12) (8.1.8)\n",
            "Requirement already satisfied: joblib in /usr/local/lib/python3.11/dist-packages (from nltk->nougat-ocr==0.1.12) (1.4.2)\n",
            "Requirement already satisfied: Levenshtein==0.27.1 in /usr/local/lib/python3.11/dist-packages (from python-Levenshtein->nougat-ocr==0.1.12) (0.27.1)\n",
            "Requirement already satisfied: rapidfuzz<4.0.0,>=3.9.0 in /usr/local/lib/python3.11/dist-packages (from Levenshtein==0.27.1->python-Levenshtein->nougat-ocr==0.1.12) (3.12.2)\n",
            "Requirement already satisfied: aiohappyeyeballs>=2.3.0 in /usr/local/lib/python3.11/dist-packages (from aiohttp->datasets[vision]->nougat-ocr==0.1.12) (2.6.1)\n",
            "Requirement already satisfied: aiosignal>=1.1.2 in /usr/local/lib/python3.11/dist-packages (from aiohttp->datasets[vision]->nougat-ocr==0.1.12) (1.3.2)\n",
            "Requirement already satisfied: attrs>=17.3.0 in /usr/local/lib/python3.11/dist-packages (from aiohttp->datasets[vision]->nougat-ocr==0.1.12) (25.3.0)\n",
            "Requirement already satisfied: frozenlist>=1.1.1 in /usr/local/lib/python3.11/dist-packages (from aiohttp->datasets[vision]->nougat-ocr==0.1.12) (1.5.0)\n",
            "Requirement already satisfied: multidict<7.0,>=4.5 in /usr/local/lib/python3.11/dist-packages (from aiohttp->datasets[vision]->nougat-ocr==0.1.12) (6.2.0)\n",
            "Requirement already satisfied: propcache>=0.2.0 in /usr/local/lib/python3.11/dist-packages (from aiohttp->datasets[vision]->nougat-ocr==0.1.12) (0.3.1)\n",
            "Requirement already satisfied: yarl<2.0,>=1.17.0 in /usr/local/lib/python3.11/dist-packages (from aiohttp->datasets[vision]->nougat-ocr==0.1.12) (1.18.3)\n",
            "Requirement already satisfied: setuptools in /usr/local/lib/python3.11/dist-packages (from lightning-utilities<2.0,>=0.10.0->lightning<2022,>=2.0.0->nougat-ocr==0.1.12) (75.2.0)\n",
            "Requirement already satisfied: annotated-types>=0.6.0 in /usr/local/lib/python3.11/dist-packages (from pydantic>=2.9.2->albumentations>=1.0.0->nougat-ocr==0.1.12) (0.7.0)\n",
            "Requirement already satisfied: pydantic-core==2.33.0 in /usr/local/lib/python3.11/dist-packages (from pydantic>=2.9.2->albumentations>=1.0.0->nougat-ocr==0.1.12) (2.33.0)\n",
            "Requirement already satisfied: typing-inspection>=0.4.0 in /usr/local/lib/python3.11/dist-packages (from pydantic>=2.9.2->albumentations>=1.0.0->nougat-ocr==0.1.12) (0.4.0)\n",
            "Requirement already satisfied: charset-normalizer<4,>=2 in /usr/local/lib/python3.11/dist-packages (from requests->transformers>=4.25.1->nougat-ocr==0.1.12) (3.4.1)\n",
            "Requirement already satisfied: idna<4,>=2.5 in /usr/local/lib/python3.11/dist-packages (from requests->transformers>=4.25.1->nougat-ocr==0.1.12) (3.10)\n",
            "Requirement already satisfied: urllib3<3,>=1.21.1 in /usr/local/lib/python3.11/dist-packages (from requests->transformers>=4.25.1->nougat-ocr==0.1.12) (2.3.0)\n",
            "Requirement already satisfied: certifi>=2017.4.17 in /usr/local/lib/python3.11/dist-packages (from requests->transformers>=4.25.1->nougat-ocr==0.1.12) (2025.1.31)\n",
            "Requirement already satisfied: networkx in /usr/local/lib/python3.11/dist-packages (from torch>=1.4->timm==0.5.4->nougat-ocr==0.1.12) (3.4.2)\n",
            "Requirement already satisfied: jinja2 in /usr/local/lib/python3.11/dist-packages (from torch>=1.4->timm==0.5.4->nougat-ocr==0.1.12) (3.1.6)\n",
            "Requirement already satisfied: nvidia-cuda-nvrtc-cu12==12.4.127 in /usr/local/lib/python3.11/dist-packages (from torch>=1.4->timm==0.5.4->nougat-ocr==0.1.12) (12.4.127)\n",
            "Requirement already satisfied: nvidia-cuda-runtime-cu12==12.4.127 in /usr/local/lib/python3.11/dist-packages (from torch>=1.4->timm==0.5.4->nougat-ocr==0.1.12) (12.4.127)\n",
            "Requirement already satisfied: nvidia-cuda-cupti-cu12==12.4.127 in /usr/local/lib/python3.11/dist-packages (from torch>=1.4->timm==0.5.4->nougat-ocr==0.1.12) (12.4.127)\n",
            "Requirement already satisfied: nvidia-cudnn-cu12==9.1.0.70 in /usr/local/lib/python3.11/dist-packages (from torch>=1.4->timm==0.5.4->nougat-ocr==0.1.12) (9.1.0.70)\n",
            "Requirement already satisfied: nvidia-cublas-cu12==12.4.5.8 in /usr/local/lib/python3.11/dist-packages (from torch>=1.4->timm==0.5.4->nougat-ocr==0.1.12) (12.4.5.8)\n",
            "Requirement already satisfied: nvidia-cufft-cu12==11.2.1.3 in /usr/local/lib/python3.11/dist-packages (from torch>=1.4->timm==0.5.4->nougat-ocr==0.1.12) (11.2.1.3)\n",
            "Requirement already satisfied: nvidia-curand-cu12==10.3.5.147 in /usr/local/lib/python3.11/dist-packages (from torch>=1.4->timm==0.5.4->nougat-ocr==0.1.12) (10.3.5.147)\n",
            "Requirement already satisfied: nvidia-cusolver-cu12==11.6.1.9 in /usr/local/lib/python3.11/dist-packages (from torch>=1.4->timm==0.5.4->nougat-ocr==0.1.12) (11.6.1.9)\n",
            "Requirement already satisfied: nvidia-cusparse-cu12==12.3.1.170 in /usr/local/lib/python3.11/dist-packages (from torch>=1.4->timm==0.5.4->nougat-ocr==0.1.12) (12.3.1.170)\n",
            "Requirement already satisfied: nvidia-cusparselt-cu12==0.6.2 in /usr/local/lib/python3.11/dist-packages (from torch>=1.4->timm==0.5.4->nougat-ocr==0.1.12) (0.6.2)\n",
            "Requirement already satisfied: nvidia-nccl-cu12==2.21.5 in /usr/local/lib/python3.11/dist-packages (from torch>=1.4->timm==0.5.4->nougat-ocr==0.1.12) (2.21.5)\n",
            "Requirement already satisfied: nvidia-nvtx-cu12==12.4.127 in /usr/local/lib/python3.11/dist-packages (from torch>=1.4->timm==0.5.4->nougat-ocr==0.1.12) (12.4.127)\n",
            "Requirement already satisfied: nvidia-nvjitlink-cu12==12.4.127 in /usr/local/lib/python3.11/dist-packages (from torch>=1.4->timm==0.5.4->nougat-ocr==0.1.12) (12.4.127)\n",
            "Requirement already satisfied: triton==3.2.0 in /usr/local/lib/python3.11/dist-packages (from torch>=1.4->timm==0.5.4->nougat-ocr==0.1.12) (3.2.0)\n",
            "Requirement already satisfied: sympy==1.13.1 in /usr/local/lib/python3.11/dist-packages (from torch>=1.4->timm==0.5.4->nougat-ocr==0.1.12) (1.13.1)\n",
            "Requirement already satisfied: mpmath<1.4,>=1.1.0 in /usr/local/lib/python3.11/dist-packages (from sympy==1.13.1->torch>=1.4->timm==0.5.4->nougat-ocr==0.1.12) (1.3.0)\n",
            "Requirement already satisfied: python-dateutil>=2.8.2 in /usr/local/lib/python3.11/dist-packages (from pandas->datasets[vision]->nougat-ocr==0.1.12) (2.8.2)\n",
            "Requirement already satisfied: pytz>=2020.1 in /usr/local/lib/python3.11/dist-packages (from pandas->datasets[vision]->nougat-ocr==0.1.12) (2025.2)\n",
            "Requirement already satisfied: tzdata>=2022.7 in /usr/local/lib/python3.11/dist-packages (from pandas->datasets[vision]->nougat-ocr==0.1.12) (2025.2)\n",
            "Requirement already satisfied: ruamel.yaml.clib>=0.2.7 in /usr/local/lib/python3.11/dist-packages (from ruamel.yaml->sconf>=0.2.3->nougat-ocr==0.1.12) (0.2.12)\n",
            "Requirement already satisfied: six>=1.5 in /usr/local/lib/python3.11/dist-packages (from python-dateutil>=2.8.2->pandas->datasets[vision]->nougat-ocr==0.1.12) (1.17.0)\n",
            "Requirement already satisfied: MarkupSafe>=2.0 in /usr/local/lib/python3.11/dist-packages (from jinja2->torch>=1.4->timm==0.5.4->nougat-ocr==0.1.12) (3.0.2)\n"
          ]
        }
      ],
      "source": [
        "!pip install 'git+https://github.com/facebookresearch/nougat@a017de1f5501fbeb6cd8b7c302f9a075b2b4bee2'"
      ]
    },
    {
      "cell_type": "markdown",
      "metadata": {
        "id": "1E2Tf5qE7EjH"
      },
      "source": [
        "## import libraries"
      ]
    },
    {
      "cell_type": "code",
      "execution_count": 18,
      "metadata": {
        "id": "fHJjZa2Z7Juh",
        "outputId": "d8d7e758-1b70-4977-aa90-2e88e6c0e6ec",
        "colab": {
          "base_uri": "https://localhost:8080/"
        }
      },
      "outputs": [
        {
          "output_type": "stream",
          "name": "stdout",
          "text": [
            "Requirement already satisfied: albumentations==1.0 in /usr/local/lib/python3.11/dist-packages (1.0.0)\n",
            "Requirement already satisfied: numpy>=1.11.1 in /usr/local/lib/python3.11/dist-packages (from albumentations==1.0) (2.0.2)\n",
            "Requirement already satisfied: scipy in /usr/local/lib/python3.11/dist-packages (from albumentations==1.0) (1.14.1)\n",
            "Requirement already satisfied: scikit-image>=0.16.1 in /usr/local/lib/python3.11/dist-packages (from albumentations==1.0) (0.25.2)\n",
            "Requirement already satisfied: PyYAML in /usr/local/lib/python3.11/dist-packages (from albumentations==1.0) (6.0.2)\n",
            "Requirement already satisfied: opencv-python-headless>=4.1.1 in /usr/local/lib/python3.11/dist-packages (from albumentations==1.0) (4.11.0.86)\n",
            "Requirement already satisfied: networkx>=3.0 in /usr/local/lib/python3.11/dist-packages (from scikit-image>=0.16.1->albumentations==1.0) (3.4.2)\n",
            "Requirement already satisfied: pillow>=10.1 in /usr/local/lib/python3.11/dist-packages (from scikit-image>=0.16.1->albumentations==1.0) (11.1.0)\n",
            "Requirement already satisfied: imageio!=2.35.0,>=2.33 in /usr/local/lib/python3.11/dist-packages (from scikit-image>=0.16.1->albumentations==1.0) (2.37.0)\n",
            "Requirement already satisfied: tifffile>=2022.8.12 in /usr/local/lib/python3.11/dist-packages (from scikit-image>=0.16.1->albumentations==1.0) (2025.3.13)\n",
            "Requirement already satisfied: packaging>=21 in /usr/local/lib/python3.11/dist-packages (from scikit-image>=0.16.1->albumentations==1.0) (24.2)\n",
            "Requirement already satisfied: lazy-loader>=0.4 in /usr/local/lib/python3.11/dist-packages (from scikit-image>=0.16.1->albumentations==1.0) (0.4)\n",
            "Collecting transformers==4.38.2\n",
            "  Downloading transformers-4.38.2-py3-none-any.whl.metadata (130 kB)\n",
            "\u001b[2K     \u001b[90m━━━━━━━━━━━━━━━━━━━━━━━━━━━━━━━━━━━━━━━━\u001b[0m \u001b[32m130.7/130.7 kB\u001b[0m \u001b[31m8.2 MB/s\u001b[0m eta \u001b[36m0:00:00\u001b[0m\n",
            "\u001b[?25hRequirement already satisfied: filelock in /usr/local/lib/python3.11/dist-packages (from transformers==4.38.2) (3.18.0)\n",
            "Requirement already satisfied: huggingface-hub<1.0,>=0.19.3 in /usr/local/lib/python3.11/dist-packages (from transformers==4.38.2) (0.29.3)\n",
            "Requirement already satisfied: numpy>=1.17 in /usr/local/lib/python3.11/dist-packages (from transformers==4.38.2) (2.0.2)\n",
            "Requirement already satisfied: packaging>=20.0 in /usr/local/lib/python3.11/dist-packages (from transformers==4.38.2) (24.2)\n",
            "Requirement already satisfied: pyyaml>=5.1 in /usr/local/lib/python3.11/dist-packages (from transformers==4.38.2) (6.0.2)\n",
            "Requirement already satisfied: regex!=2019.12.17 in /usr/local/lib/python3.11/dist-packages (from transformers==4.38.2) (2024.11.6)\n",
            "Requirement already satisfied: requests in /usr/local/lib/python3.11/dist-packages (from transformers==4.38.2) (2.32.3)\n",
            "Collecting tokenizers<0.19,>=0.14 (from transformers==4.38.2)\n",
            "  Downloading tokenizers-0.15.2-cp311-cp311-manylinux_2_17_x86_64.manylinux2014_x86_64.whl.metadata (6.7 kB)\n",
            "Requirement already satisfied: safetensors>=0.4.1 in /usr/local/lib/python3.11/dist-packages (from transformers==4.38.2) (0.5.3)\n",
            "Requirement already satisfied: tqdm>=4.27 in /usr/local/lib/python3.11/dist-packages (from transformers==4.38.2) (4.67.1)\n",
            "Requirement already satisfied: fsspec>=2023.5.0 in /usr/local/lib/python3.11/dist-packages (from huggingface-hub<1.0,>=0.19.3->transformers==4.38.2) (2024.12.0)\n",
            "Requirement already satisfied: typing-extensions>=3.7.4.3 in /usr/local/lib/python3.11/dist-packages (from huggingface-hub<1.0,>=0.19.3->transformers==4.38.2) (4.13.0)\n",
            "Requirement already satisfied: charset-normalizer<4,>=2 in /usr/local/lib/python3.11/dist-packages (from requests->transformers==4.38.2) (3.4.1)\n",
            "Requirement already satisfied: idna<4,>=2.5 in /usr/local/lib/python3.11/dist-packages (from requests->transformers==4.38.2) (3.10)\n",
            "Requirement already satisfied: urllib3<3,>=1.21.1 in /usr/local/lib/python3.11/dist-packages (from requests->transformers==4.38.2) (2.3.0)\n",
            "Requirement already satisfied: certifi>=2017.4.17 in /usr/local/lib/python3.11/dist-packages (from requests->transformers==4.38.2) (2025.1.31)\n",
            "Downloading transformers-4.38.2-py3-none-any.whl (8.5 MB)\n",
            "\u001b[2K   \u001b[90m━━━━━━━━━━━━━━━━━━━━━━━━━━━━━━━━━━━━━━━━\u001b[0m \u001b[32m8.5/8.5 MB\u001b[0m \u001b[31m68.6 MB/s\u001b[0m eta \u001b[36m0:00:00\u001b[0m\n",
            "\u001b[?25hDownloading tokenizers-0.15.2-cp311-cp311-manylinux_2_17_x86_64.manylinux2014_x86_64.whl (3.6 MB)\n",
            "\u001b[2K   \u001b[90m━━━━━━━━━━━━━━━━━━━━━━━━━━━━━━━━━━━━━━━━\u001b[0m \u001b[32m3.6/3.6 MB\u001b[0m \u001b[31m86.5 MB/s\u001b[0m eta \u001b[36m0:00:00\u001b[0m\n",
            "\u001b[?25hInstalling collected packages: tokenizers, transformers\n",
            "  Attempting uninstall: tokenizers\n",
            "    Found existing installation: tokenizers 0.21.1\n",
            "    Uninstalling tokenizers-0.21.1:\n",
            "      Successfully uninstalled tokenizers-0.21.1\n",
            "  Attempting uninstall: transformers\n",
            "    Found existing installation: transformers 4.50.2\n",
            "    Uninstalling transformers-4.50.2:\n",
            "      Successfully uninstalled transformers-4.50.2\n",
            "\u001b[31mERROR: pip's dependency resolver does not currently take into account all the packages that are installed. This behaviour is the source of the following dependency conflicts.\n",
            "sentence-transformers 3.4.1 requires transformers<5.0.0,>=4.41.0, but you have transformers 4.38.2 which is incompatible.\u001b[0m\u001b[31m\n",
            "\u001b[0mSuccessfully installed tokenizers-0.15.2 transformers-4.38.2\n"
          ]
        }
      ],
      "source": [
        "!pip install albumentations==1.0\n",
        "!pip install -U transformers==4.38.2"
      ]
    },
    {
      "cell_type": "markdown",
      "metadata": {
        "id": "Pk2NNI-ElfNK"
      },
      "source": [
        "# Downlad PDF"
      ]
    },
    {
      "cell_type": "code",
      "execution_count": 13,
      "metadata": {
        "colab": {
          "base_uri": "https://localhost:8080/"
        },
        "id": "k9dlg9eol7A2",
        "outputId": "d5e5b703-c2fc-41d3-ae2e-e3a75685f761"
      },
      "outputs": [
        {
          "output_type": "stream",
          "name": "stdout",
          "text": [
            "--2025-04-01 16:52:47--  https://ocw.mit.edu/courses/14-382-econometrics-spring-2017/29d3e55c546c9927eff0035735b35aa9_MIT14_382S17_14381notes.pdf\n",
            "Resolving ocw.mit.edu (ocw.mit.edu)... 151.101.2.133, 151.101.194.133, 151.101.130.133, ...\n",
            "Connecting to ocw.mit.edu (ocw.mit.edu)|151.101.2.133|:443... connected.\n",
            "HTTP request sent, awaiting response... 200 OK\n",
            "Length: 616447 (602K) [application/pdf]\n",
            "Saving to: ‘./arxiv_nougat.pdf’\n",
            "\n",
            "\r./arxiv_nougat.pdf    0%[                    ]       0  --.-KB/s               \r./arxiv_nougat.pdf  100%[===================>] 602.00K  --.-KB/s    in 0.009s  \n",
            "\n",
            "2025-04-01 16:52:47 (63.2 MB/s) - ‘./arxiv_nougat.pdf’ saved [616447/616447]\n",
            "\n"
          ]
        }
      ],
      "source": [
        "!wget \\\n",
        "  --user-agent=\"Mozilla/5.0 (Windows NT 10.0; WOW64) AppleWebKit/537.36 (KHTML, like Gecko) Chrome/51.0.2704.103 Safari/537.36\"\\\n",
        "  https://ocw.mit.edu/courses/14-382-econometrics-spring-2017/29d3e55c546c9927eff0035735b35aa9_MIT14_382S17_14381notes.pdf \\\n",
        "  -O ./arxiv_nougat.pdf"
      ]
    },
    {
      "cell_type": "markdown",
      "metadata": {
        "id": "4MOfqwlrmYeo"
      },
      "source": [
        "# Nougat OCR"
      ]
    },
    {
      "cell_type": "code",
      "execution_count": 21,
      "metadata": {
        "colab": {
          "base_uri": "https://localhost:8080/"
        },
        "id": "05zcj_0opRxT",
        "outputId": "1ef86f13-dc3c-47d9-9dc4-bbe7b68ef0e0"
      },
      "outputs": [
        {
          "output_type": "stream",
          "name": "stdout",
          "text": [
            "/usr/local/lib/python3.11/dist-packages/torch/functional.py:539: UserWarning: torch.meshgrid: in an upcoming release, it will be required to pass the indexing argument. (Triggered internally at /pytorch/aten/src/ATen/native/TensorShape.cpp:3637.)\n",
            "  return _VF.meshgrid(tensors, **kwargs)  # type: ignore[attr-defined]\n",
            "INFO:root:Skipping arxiv_nougat.pdf, already computed. Run with --recompute to convert again.\n",
            "CPU times: user 55.8 ms, sys: 11.3 ms, total: 67.1 ms\n",
            "Wall time: 10.5 s\n"
          ]
        }
      ],
      "source": [
        "%%time\n",
        "\n",
        "!nougat ./arxiv_nougat.pdf \\\n",
        "  -o ./result \\\n",
        "  -m 0.1.0-small \\\n",
        "  -p 1-64"
      ]
    },
    {
      "cell_type": "code",
      "execution_count": 24,
      "metadata": {
        "colab": {
          "base_uri": "https://localhost:8080/"
        },
        "id": "w4cTjZBzmcZC",
        "outputId": "29202eaa-5e3d-4276-f338-91e65d0df61f"
      },
      "outputs": [
        {
          "output_type": "stream",
          "name": "stdout",
          "text": [
            "/usr/local/lib/python3.11/dist-packages/torch/functional.py:539: UserWarning: torch.meshgrid: in an upcoming release, it will be required to pass the indexing argument. (Triggered internally at /pytorch/aten/src/ATen/native/TensorShape.cpp:3637.)\n",
            "  return _VF.meshgrid(tensors, **kwargs)  # type: ignore[attr-defined]\n",
            "  0% 0/16 [00:00<?, ?it/s]INFO:root:Processing file arxiv_nougat.pdf with 64 pages\n",
            "100% 16/16 [03:10<00:00, 11.90s/it]\n",
            "-> Cannot close object, library is destroyed. This may cause a memory leak!\n",
            "CPU times: user 868 ms, sys: 126 ms, total: 993 ms\n",
            "Wall time: 3min 20s\n"
          ]
        }
      ],
      "source": [
        "%%time\n",
        "\n",
        "!nougat ./arxiv_nougat.pdf \\\n",
        "  -o ./result_markdown \\\n",
        "  -m 0.1.0-small \\\n",
        "  -p 1-64 \\\n",
        "  --markdown --no-skipping --recompute"
      ]
    },
    {
      "cell_type": "markdown",
      "metadata": {
        "id": "t0sNSL0DosIc"
      },
      "source": [
        "## show result"
      ]
    },
    {
      "cell_type": "code",
      "execution_count": 25,
      "metadata": {
        "colab": {
          "base_uri": "https://localhost:8080/"
        },
        "id": "jQI4059tpVTl",
        "outputId": "4bc03712-95fa-45ae-e29f-9a4cb381b73f"
      },
      "outputs": [
        {
          "output_type": "stream",
          "name": "stdout",
          "text": [
            "('V.C. 14.381 Class Notes1\\n'\n",
            " '\\n'\n",
            " 'Footnote 1: The notes are very rough and are provided for your convenience '\n",
            " 'only. Please e-mail me if you notice any mistakes (vchenr@mit.edu).\\n'\n",
            " '\\n'\n",
            " '## 1. Fundamentals of Regression\\n'\n",
            " '\\n'\n",
            " '### Regression and Conditional Expectation Function\\n'\n",
            " '\\n'\n",
            " 'Suppose \\\\(y_{t}\\\\) is real response variable, and \\\\(w_{t}\\\\) is a d-vector '\n",
            " 'of covariates. We are interested in the conditional mean (expectation) of '\n",
            " '\\\\(y_{t}\\\\) given \\\\(w_{t}\\\\):\\n'\n",
            " '\\n'\n",
            " '\\\\[g(w_{t}):=E[y_{t}|w_{t}].\\\\]\\n'\n",
            " '\\n'\n",
            " 'It is customary also to define a regression equation:\\n'\n",
            " '\\n'\n",
            " '\\\\[y_{t}=g(w_{t})+\\\\varepsilon_{t},\\\\ \\\\ E[\\\\varepsilon_{t}|w_{t}]=0,\\\\]\\n'\n",
            " '\\n'\n",
            " 'where \\\\(y_{t}\\\\) is thought of as a dependent variable, \\\\(w_{t}\\\\) as '\n",
            " 'independent variables, and \\\\(\\\\varepsilon_{t}\\\\) as a disturbance.\\n'\n",
            " '\\n'\n",
            " 'Regression function can also be defined as the solution to the best '\n",
            " 'conditional prediction problem under the square loss: for each \\\\(w\\\\), we '\n",
            " 'have\\n'\n",
            " '\\n'\n",
            " '\\\\[g(w)=\\\\arg\\\\min_{\\\\tilde{g}\\\\in\\\\mathbb{R}}E[(y_{t}-\\\\tilde{g})^{2}|w].\\\\] \\n'\n",
            " '\\n'\n",
            " '**Theorem 1.1**.: _Suppose \\\\(w_{t}\\\\) has a bounded support on a cube in '\n",
            " '\\\\(\\\\mathbb{R}^{d}\\\\) and has a positive, bounded density. If \\\\(g(w)\\\\) is '\n",
            " 's-times continuously differentiable with bounded derivatives (by a constant '\n",
            " '\\\\(M\\\\)), then using \\\\(K\\\\)-term series \\\\(x=f(w)\\\\) of the kind described '\n",
            " 'above, the approximation error is controlled as:_\\n'\n",
            " '\\n'\n",
            " '\\\\[\\\\min_{b}[E[g(w_{t})-x_{t}^{\\\\prime}b]^{2}]^{1/2}\\\\leq\\\\text{ '\n",
            " 'const}_{M}\\\\cdot K^{- \\\\gamma/d},\\\\]\\n'\n",
            " '\\n'\n",
            " '_where \\\\(\\\\gamma=s\\\\) for power series and wavelets, and for splines '\n",
            " '\\\\(\\\\gamma=\\\\min(s,r)\\\\), where \\\\(r\\\\) is the order of the spline._\\n'\n",
            " '\\n'\n",
            " 'Thus, as \\\\(K\\\\to\\\\infty\\\\), the approximation error converges to zero. The '\n",
            " 'theorem also says that it is easier to approximate a smooth function, and it '\n",
            " 'is harder to approximate a function of many basic regressors (another '\n",
            " 'manifestation of the curse of the dimensionality). It should be noted that '\n",
            " 'the statement, that the approximation error goes to zero as '\n",
            " '\\\\(K\\\\to\\\\infty\\\\), is true even _without_ smoothness assumptions, in fact '\n",
            " 'it suffices for \\\\(g(w)\\\\) to be measurable and square integrable.\\n'\n",
            " '\\n'\n",
            " 'The approximation of functions by least squares using splines and Chebyshev '\n",
            " 'series has good properties, not only in minimizing mean squared '\n",
            " 'approximation error but also in terms of the maximum distance to the '\n",
            " 'approximand (the latter property is called co-minimality).\\n'\n",
            " '\\n'\n",
            " '### Examples on Approximation\\n'\n",
            " '\\n'\n",
            " 'Example 1.(Synthetic) Suppose function \\\\(g(w)=w+2sin(w)\\\\), and that '\n",
            " '\\\\(w_{t}\\\\) is uniformly distributed on integers \\\\(\\\\{1,...,20\\\\}\\\\). Then '\n",
            " 'OLS in population solves the approximation problem:\\n'\n",
            " '\\n'\n",
            " '\\\\[\\\\beta=\\\\arg\\\\min_{b}E[g(w_{t})-x_{t}^{\\\\prime}b]^{2}\\\\]\\n'\n",
            " '\\n'\n",
            " 'for \\\\(x_{t}=f(w_{t})\\\\). Let us try different functional forms for \\\\(f\\\\). '\n",
            " 'In this exercise, we form \\\\(f(w)\\\\) as (a) linear spline (Figure 1,left) '\n",
            " 'and (b) Chebyshev series (Figure 1,right), such that dimension of \\\\(f(w)\\\\) '\n",
            " 'is either 3 or 8.\\n'\n",
            " '\\n'\n",
            " 'Then we compare the function \\\\(g(w)\\\\) to the linear approximation '\n",
            " '\\\\(f(w)^{\\\\prime}\\\\beta\\\\) graphically. In Figure 1 we see that the '\n",
            " 'parsimonious model with \\\\(K=3\\\\) accurately approximates global shape (\"big '\n",
            " 'changes\") in the conditional expectation function, but does not accurately '\n",
            " 'approximate the local shape (\"small changes\"). Using more flexible form with '\n",
            " '\\\\(K=8\\\\) parameters leads to better approximation of the local shape. We '\n",
            " 'see also the splines do much better in this example than Chebyshev '\n",
            " 'polynomials.\\n'\n",
            " '\\n'\n",
            " 'We can also look at the formal measures of approximation error such as the '\n",
            " 'root mean square approximation error (RMSAE):\\n'\n",
            " '\\n'\n",
            " '\\\\[[E[g(w_{t})-f(w_{t})^{\\\\prime}\\\\beta]^{2}]^{1/2},\\\\]\\n'\n",
            " '\\n'\n",
            " 'and the maximum approximation error (MAE):\\n'\n",
            " '\\n'\n",
            " '\\\\[\\\\max_{w}|g(w)-f(w)^{\\\\prime}\\\\beta|.\\\\]These measures are computed in '\n",
            " 'the following table:\\n'\n",
            " '\\n'\n",
            " 'Figure 2.')\n"
          ]
        }
      ],
      "source": [
        "import pprint\n",
        "\n",
        "with open('./result/arxiv_nougat.mmd') as f:\n",
        "  s = f.read()\n",
        "\n",
        "pprint.pprint(s)"
      ]
    },
    {
      "cell_type": "code",
      "execution_count": 27,
      "metadata": {
        "colab": {
          "base_uri": "https://localhost:8080/",
          "height": 17
        },
        "id": "AaytzkOKo2DE",
        "outputId": "adf74943-45e4-4135-8d3a-b30f97b2e5bb"
      },
      "outputs": [
        {
          "output_type": "display_data",
          "data": {
            "text/plain": [
              "<IPython.core.display.Javascript object>"
            ],
            "application/javascript": [
              "\n",
              "    async function download(id, filename, size) {\n",
              "      if (!google.colab.kernel.accessAllowed) {\n",
              "        return;\n",
              "      }\n",
              "      const div = document.createElement('div');\n",
              "      const label = document.createElement('label');\n",
              "      label.textContent = `Downloading \"${filename}\": `;\n",
              "      div.appendChild(label);\n",
              "      const progress = document.createElement('progress');\n",
              "      progress.max = size;\n",
              "      div.appendChild(progress);\n",
              "      document.body.appendChild(div);\n",
              "\n",
              "      const buffers = [];\n",
              "      let downloaded = 0;\n",
              "\n",
              "      const channel = await google.colab.kernel.comms.open(id);\n",
              "      // Send a message to notify the kernel that we're ready.\n",
              "      channel.send({})\n",
              "\n",
              "      for await (const message of channel.messages) {\n",
              "        // Send a message to notify the kernel that we're ready.\n",
              "        channel.send({})\n",
              "        if (message.buffers) {\n",
              "          for (const buffer of message.buffers) {\n",
              "            buffers.push(buffer);\n",
              "            downloaded += buffer.byteLength;\n",
              "            progress.value = downloaded;\n",
              "          }\n",
              "        }\n",
              "      }\n",
              "      const blob = new Blob(buffers, {type: 'application/binary'});\n",
              "      const a = document.createElement('a');\n",
              "      a.href = window.URL.createObjectURL(blob);\n",
              "      a.download = filename;\n",
              "      div.appendChild(a);\n",
              "      a.click();\n",
              "      div.remove();\n",
              "    }\n",
              "  "
            ]
          },
          "metadata": {}
        },
        {
          "output_type": "display_data",
          "data": {
            "text/plain": [
              "<IPython.core.display.Javascript object>"
            ],
            "application/javascript": [
              "download(\"download_fffe2acf-4569-4a5e-a034-62a7f2d72c8d\", \"arxiv_nougat.mmd\", 80019)"
            ]
          },
          "metadata": {}
        }
      ],
      "source": [
        "import pprint\n",
        "\n",
        "with open('./result_markdown/arxiv_nougat.mmd') as f:\n",
        "  s = f.read()\n",
        "\n",
        "# pprint.pprint(s)\n",
        "from google.colab import files\n",
        "\n",
        "files.download('./result_markdown/arxiv_nougat.mmd')"
      ]
    },
    {
      "cell_type": "code",
      "source": [
        "!ls ./result_markdown"
      ],
      "metadata": {
        "id": "6Y3_U-OUUcK6",
        "outputId": "4062dd0b-bb6e-4a38-b1e9-95e72513eb41",
        "colab": {
          "base_uri": "https://localhost:8080/"
        }
      },
      "execution_count": 31,
      "outputs": [
        {
          "output_type": "stream",
          "name": "stdout",
          "text": [
            "arxiv_nougat.mmd\n"
          ]
        }
      ]
    },
    {
      "cell_type": "code",
      "source": [],
      "metadata": {
        "id": "iFl-E6RjWJyT"
      },
      "execution_count": null,
      "outputs": []
    }
  ],
  "metadata": {
    "accelerator": "GPU",
    "colab": {
      "provenance": []
    },
    "kernelspec": {
      "display_name": "Python 3.10.4 64-bit",
      "language": "python",
      "name": "python3"
    },
    "language_info": {
      "name": "python",
      "version": "3.10.4"
    },
    "vscode": {
      "interpreter": {
        "hash": "69158ccfe43d0b962045f592ede11796dd42f250837ab62152c8bc6cd100a15b"
      }
    }
  },
  "nbformat": 4,
  "nbformat_minor": 0
}